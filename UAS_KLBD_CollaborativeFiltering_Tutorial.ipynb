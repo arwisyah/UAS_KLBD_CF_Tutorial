{
  "cells": [
    {
      "cell_type": "markdown",
      "metadata": {
        "id": "hWR5-fLgXDkB"
      },
      "source": [
        "# Collaborative Filtering Recommendation System on CCLE (Cancer Cell Line Encyclopedia) Drug Sensitivity Data\n",
        "\n",
        "\n",
        "---\n",
        "\n",
        "* Student Name: Arya Wira Syahdwinata\n",
        "* NPM : 2306174892\n",
        "\n",
        "---\n",
        "\n",
        "Data Source: Barretina,J. et al. (2012) The Cancer Cell Line Encyclopedia enables predictive\n",
        "modeling of anticancer drug sensitivity. Nature, 483, 603-607.\n",
        "\n",
        "---\n",
        "The goal is to predict the sensitivity (rating) of cancer cell line (user) while using certain drugs (item) with NaN entry using collaborative filtering recommendation system."
      ]
    },
    {
      "cell_type": "markdown",
      "metadata": {
        "id": "Ac8ubcUfTfGS"
      },
      "source": [
        "### Install requirment"
      ]
    },
    {
      "cell_type": "code",
      "execution_count": 1,
      "metadata": {
        "colab": {
          "base_uri": "https://localhost:8080/"
        },
        "id": "ixCHdSZd5UYx",
        "outputId": "f5295368-dffe-4443-c0ad-604420e626c9"
      },
      "outputs": [
        {
          "name": "stdout",
          "output_type": "stream",
          "text": [
            "Collecting surprise\n",
            "  Downloading surprise-0.1-py2.py3-none-any.whl (1.8 kB)\n",
            "Collecting scikit-surprise (from surprise)\n",
            "  Downloading scikit-surprise-1.1.3.tar.gz (771 kB)\n",
            "\u001b[2K     \u001b[90m━━━━━━━━━━━━━━━━━━━━━━━━━━━━━━━━━━━━━━━━\u001b[0m \u001b[32m772.0/772.0 kB\u001b[0m \u001b[31m7.7 MB/s\u001b[0m eta \u001b[36m0:00:00\u001b[0m\n",
            "\u001b[?25h  Preparing metadata (setup.py) ... \u001b[?25l\u001b[?25hdone\n",
            "Requirement already satisfied: joblib>=1.0.0 in /usr/local/lib/python3.10/dist-packages (from scikit-surprise->surprise) (1.3.2)\n",
            "Requirement already satisfied: numpy>=1.17.3 in /usr/local/lib/python3.10/dist-packages (from scikit-surprise->surprise) (1.23.5)\n",
            "Requirement already satisfied: scipy>=1.3.2 in /usr/local/lib/python3.10/dist-packages (from scikit-surprise->surprise) (1.11.4)\n",
            "Building wheels for collected packages: scikit-surprise\n",
            "  Building wheel for scikit-surprise (setup.py) ... \u001b[?25l\u001b[?25hdone\n",
            "  Created wheel for scikit-surprise: filename=scikit_surprise-1.1.3-cp310-cp310-linux_x86_64.whl size=3163690 sha256=8664d833f0282848f3a94e8eba5b4e11f4dea9886f4362dd7b459bce2715ee87\n",
            "  Stored in directory: /root/.cache/pip/wheels/a5/ca/a8/4e28def53797fdc4363ca4af740db15a9c2f1595ebc51fb445\n",
            "Successfully built scikit-surprise\n",
            "Installing collected packages: scikit-surprise, surprise\n",
            "Successfully installed scikit-surprise-1.1.3 surprise-0.1\n"
          ]
        }
      ],
      "source": [
        "!pip install surprise"
      ]
    },
    {
      "cell_type": "markdown",
      "metadata": {
        "id": "oJD6XzKCTnWn"
      },
      "source": [
        "### Import all library"
      ]
    },
    {
      "cell_type": "code",
      "execution_count": null,
      "metadata": {
        "id": "rFsd1QfqTv6P"
      },
      "outputs": [],
      "source": [
        "import numpy as np\n",
        "import pandas as pd\n",
        "from sklearn.metrics import mean_squared_error\n",
        "from surprise import Dataset, Reader, KNNBasic, accuracy"
      ]
    },
    {
      "cell_type": "markdown",
      "metadata": {
        "id": "9JtaPBUqT756"
      },
      "source": [
        "### Get the data (the data already been preprocessed into IC50 using bayesian sigmoid method)\n",
        "\n",
        "Credit: C. Suphavilai, D. Bertrand, and N. Nagarajan, “Predicting Cancer Drug Response using a Recommender System,” Bioinformatics, vol. 34, no. 22, pp. 3907–3914, Jun. 2018, doi: 10.1093/bioinformatics/bty452. Available: https://doi.org/10.1093/bioinformatics/bty452"
      ]
    },
    {
      "cell_type": "code",
      "execution_count": null,
      "metadata": {
        "colab": {
          "base_uri": "https://localhost:8080/"
        },
        "id": "af3y9t4t63-E",
        "outputId": "67566f5f-89d2-46a9-bd93-b8263751846b"
      },
      "outputs": [],
      "source": [
        "# Specify the paths to the files\n",
        "data_path = \"ccle_all_abs_ic50_bayesian_sigmoid.csv\""
      ]
    },
    {
      "cell_type": "markdown",
      "metadata": {
        "id": "Af6RaUPDUm4z"
      },
      "source": [
        "### Preprocessing\n",
        "---\n",
        "1. Read the data\n",
        "2. Reshape the data\n",
        "3. Change NaN into 0\n",
        "4. Slice (horizontal + vertical) the data into 4 different part as the test data."
      ]
    },
    {
      "cell_type": "code",
      "execution_count": null,
      "metadata": {
        "id": "TW9qd1rlVFdG"
      },
      "outputs": [],
      "source": [
        "# Load the data into pandas DataFrames\n",
        "data = pd.read_csv(data_path)\n",
        "\n",
        "# Reshape the data\n",
        "data = data.melt(id_vars='Unnamed: 0', var_name='drug_name', value_name='sensitivity')\n",
        "data.rename(columns={'Unnamed: 0': 'cell_line_name'}, inplace=True)\n",
        "\n",
        "# Handle missing values\n",
        "data['sensitivity'].fillna(0, inplace=True)\n",
        "\n",
        "# Define the rating scale\n",
        "reader = Reader(rating_scale=(data['sensitivity'].min(), data['sensitivity'].max()))\n",
        "\n",
        "# Assuming 'data' is your DataFrame\n",
        "indices = np.array_split(data.index, 4)  # Split the index into 4 parts\n",
        "data_blocks = [data.loc[idx] for idx in indices]  # Create the 4 sub-DataFrames"
      ]
    },
    {
      "cell_type": "markdown",
      "metadata": {
        "id": "AalN1lf5VJd2"
      },
      "source": [
        "### Train the data using user-based collaborative filtering KNN with cosine similarity, test the model and compute the performance (RMSE)"
      ]
    },
    {
      "cell_type": "code",
      "execution_count": 4,
      "metadata": {
        "colab": {
          "base_uri": "https://localhost:8080/"
        },
        "id": "YcM_Uo50QwLe",
        "outputId": "33176db7-4856-47d9-b193-f04d1b925eee"
      },
      "outputs": [
        {
          "name": "stdout",
          "output_type": "stream",
          "text": [
            "Computing the cosine similarity matrix...\n",
            "Done computing similarity matrix.\n",
            "Computing the cosine similarity matrix...\n",
            "Done computing similarity matrix.\n",
            "Computing the cosine similarity matrix...\n",
            "Done computing similarity matrix.\n",
            "Computing the cosine similarity matrix...\n",
            "Done computing similarity matrix.\n",
            "RMSE scores:  [3.4521649442526163, 4.2728503864177085, 3.7257478150381167, 4.014022458911873]\n",
            "Average RMSE score:  3.8661964011550785\n"
          ]
        }
      ],
      "source": [
        "rmse_scores = []  # To store the RMSE scores for each fold\n",
        "\n",
        "for i in range(4):\n",
        "    test_data = data_blocks[i]\n",
        "    train_data = pd.concat([data_blocks[j] for j in range(4) if j != i])  # Use all other blocks for training\n",
        "\n",
        "    # Define the rating scale for the current training data\n",
        "    reader = Reader(rating_scale=(train_data['sensitivity'].min(), train_data['sensitivity'].max()))\n",
        "\n",
        "    # Load the training and test data from the DataFrames\n",
        "    train_data = Dataset.load_from_df(train_data, reader)\n",
        "    train_data = train_data.build_full_trainset()\n",
        "\n",
        "    # Use user-based collaborative filtering with cosine similarity\n",
        "    sim_options = {'name': 'cosine', 'user_based': True}\n",
        "    algo = KNNBasic(sim_options=sim_options)\n",
        "\n",
        "    # Train the algorithm on the trainset\n",
        "    algo.fit(train_data)\n",
        "\n",
        "    # Predict ratings for the testset\n",
        "    predictions = []\n",
        "    for _, row in test_data.iterrows():\n",
        "        prediction = algo.predict(row['cell_line_name'], row['drug_name'])\n",
        "        predictions.append(prediction.est)\n",
        "\n",
        "    # Compute RMSE for the current fold\n",
        "    rmse = np.sqrt(mean_squared_error(test_data['sensitivity'], predictions))\n",
        "    rmse_scores.append(rmse)\n",
        "\n",
        "print(\"RMSE scores: \", rmse_scores)\n",
        "print(\"Average RMSE score: \", np.mean(rmse_scores))"
      ]
    }
  ],
  "metadata": {
    "accelerator": "GPU",
    "colab": {
      "gpuType": "T4",
      "provenance": []
    },
    "kernelspec": {
      "display_name": "Python 3",
      "name": "python3"
    },
    "language_info": {
      "name": "python"
    }
  },
  "nbformat": 4,
  "nbformat_minor": 0
}
